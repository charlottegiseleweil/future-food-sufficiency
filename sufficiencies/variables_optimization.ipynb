{
 "cells": [
  {
   "cell_type": "markdown",
   "metadata": {},
   "source": [
    "## Stability of caloric sufficiency w.r.t. diet changes\n",
    "#### What we are trying to do is find what the % of meat consumption in diet needs to be for caloric sufficiency to remain the same from 2000 to 2050.\n",
    "To achieve that we will write a simple function that calculates the ∆cal_suff that only depends on diet and then try to find its root(s)."
   ]
  },
  {
   "cell_type": "code",
   "execution_count": 1,
   "metadata": {},
   "outputs": [],
   "source": [
    "import pandas as pd\n",
    "import numpy as np\n",
    "from scipy.optimize import root"
   ]
  },
  {
   "cell_type": "code",
   "execution_count": 2,
   "metadata": {},
   "outputs": [
    {
     "data": {
      "text/plain": [
       "    fjac: array([[-0.91524006, -0.40290897],\n",
       "       [ 0.40290897, -0.91524006]])\n",
       "     fun: array([ 3.38906680e-12, -5.75206549e-12])\n",
       " message: 'The solution converged.'\n",
       "    nfev: 17\n",
       "     qtf: array([ 5.21627853e-10, -4.52168491e-09])\n",
       "       r: array([ 3.96506486, -0.44605862, -3.36515374])\n",
       "  status: 1\n",
       " success: True\n",
       "       x: array([-0.58963483, -1.05650374])"
      ]
     },
     "execution_count": 2,
     "metadata": {},
     "output_type": "execute_result"
    }
   ],
   "source": [
    "def f(x):\n",
    "    '''example multivariate vectorial function'''\n",
    "    return [np.log(x[0]**2) - x[1],\n",
    "           x[1]**3 - 2 * x[0]]\n",
    "\n",
    "root(f, x0=[-2, 1], method='hybr')"
   ]
  },
  {
   "cell_type": "code",
   "execution_count": 3,
   "metadata": {
    "code_folding": [
     0
    ]
   },
   "outputs": [
    {
     "data": {
      "text/html": [
       "<div>\n",
       "<style scoped>\n",
       "    .dataframe tbody tr th:only-of-type {\n",
       "        vertical-align: middle;\n",
       "    }\n",
       "\n",
       "    .dataframe tbody tr th {\n",
       "        vertical-align: top;\n",
       "    }\n",
       "\n",
       "    .dataframe thead th {\n",
       "        text-align: right;\n",
       "    }\n",
       "</style>\n",
       "<table border=\"1\" class=\"dataframe\">\n",
       "  <thead>\n",
       "    <tr style=\"text-align: right;\">\n",
       "      <th></th>\n",
       "      <th>Country</th>\n",
       "      <th>Value</th>\n",
       "      <th>name</th>\n",
       "      <th>ISO3</th>\n",
       "      <th>LS2000_percapita</th>\n",
       "    </tr>\n",
       "  </thead>\n",
       "  <tbody>\n",
       "    <tr>\n",
       "      <th>0</th>\n",
       "      <td>Afghanistan</td>\n",
       "      <td>275</td>\n",
       "      <td>Afghanistan</td>\n",
       "      <td>AFG</td>\n",
       "      <td>100443750.0</td>\n",
       "    </tr>\n",
       "    <tr>\n",
       "      <th>1</th>\n",
       "      <td>Albania</td>\n",
       "      <td>674</td>\n",
       "      <td>Albania</td>\n",
       "      <td>ALB</td>\n",
       "      <td>246178500.0</td>\n",
       "    </tr>\n",
       "    <tr>\n",
       "      <th>2</th>\n",
       "      <td>Algeria</td>\n",
       "      <td>277</td>\n",
       "      <td>Algeria</td>\n",
       "      <td>DZA</td>\n",
       "      <td>101174250.0</td>\n",
       "    </tr>\n",
       "    <tr>\n",
       "      <th>3</th>\n",
       "      <td>Angola</td>\n",
       "      <td>153</td>\n",
       "      <td>Angola</td>\n",
       "      <td>AGO</td>\n",
       "      <td>55883250.0</td>\n",
       "    </tr>\n",
       "    <tr>\n",
       "      <th>4</th>\n",
       "      <td>Antigua and Barbuda</td>\n",
       "      <td>701</td>\n",
       "      <td>NaN</td>\n",
       "      <td>NaN</td>\n",
       "      <td>256040250.0</td>\n",
       "    </tr>\n",
       "  </tbody>\n",
       "</table>\n",
       "</div>"
      ],
      "text/plain": [
       "               Country  Value         name ISO3  LS2000_percapita\n",
       "0          Afghanistan    275  Afghanistan  AFG       100443750.0\n",
       "1              Albania    674      Albania  ALB       246178500.0\n",
       "2              Algeria    277      Algeria  DZA       101174250.0\n",
       "3               Angola    153       Angola  AGO        55883250.0\n",
       "4  Antigua and Barbuda    701          NaN  NaN       256040250.0"
      ]
     },
     "execution_count": 3,
     "metadata": {},
     "output_type": "execute_result"
    }
   ],
   "source": [
    "all_countries = [\n",
    "    \n",
    "    'Argentina', 'Australia', 'Bulgaria',\n",
    "    'Belize', 'Brazil', 'Canada', 'Denmark',\n",
    "    'France', 'Hungary', 'Kazakhstan',\n",
    "    'Lithuania', 'Latvia', 'Paraguay',\n",
    "    'Ukraine', 'Uruguay', 'United States of America',\n",
    "    'Belarus', 'Botswana', 'Estonia',\n",
    "    'Finland', 'Georgia', 'Iran', 'Libya',\n",
    "    'Lesotho', 'Moldova', 'Mongolia',\n",
    "    'Norway', 'New Zealand', 'Poland',\n",
    "    'Portugal', 'Russia', 'Swaziland',\n",
    "    'Tunisia',\n",
    "    'United Arab Emirates', 'Belgium',\n",
    "    'Brunei', 'Cyprus', 'Djibouti', 'Algeria',\n",
    "    'Gambia', 'Iraq', 'Israel', 'Jordan',\n",
    "    'Japan', 'South Korea', 'Kuwait',\n",
    "    'Lebanon', 'Montenegro',\n",
    "    'Mauritania', 'Netherlands', 'Saudi Arabia', 'Singapore', 'Trinidad and Tobago', 'Yemen',\n",
    "    'Afghanistan', 'Angola', 'Burundi',\n",
    "    'Bangladesh', 'Cameroon',\n",
    "    'Democratic Republic of the Congo',\n",
    "    'Republic of Congo', 'Dominican Republic', 'Egypt', 'Eritrea', 'Ethiopia',\n",
    "    'Ghana', 'Guinea Bissau',\n",
    "    'Guatemala', 'Haiti', 'India', 'Jamaica',\n",
    "    'Kenya', 'Sri Lanka', 'Madagascar',\n",
    "    'Mozambique', 'Malawi', 'Niger',\n",
    "    'Nigeria', 'Nepal', 'Oman', 'Pakistan',\n",
    "    'Philippines', 'Puerto Rico', 'North Korea', 'Rwanda', 'El Salvador',\n",
    "    'Syria', 'Togo', 'Uganda',\n",
    "    'Benin', 'Burkina Faso', 'Bolivia',\n",
    "    'China', 'Ivory Coast', 'Colombia',\n",
    "    'Costa Rica', 'United Kingdom',\n",
    "    'Guinea', 'Honduras', 'Indonesia',\n",
    "    'Ireland', 'Luxembourg', 'Mexico',\n",
    "    'Malaysia', 'Panama', 'Sudan',\n",
    "    'Senegal', 'Sierra Leone', 'Tajikistan',\n",
    "    'Tanzania', 'Uzbekistan', 'Vietnam',\n",
    "    'Zambia', 'Gabon', 'Equatorial Guinea',\n",
    "    'Morocco', 'Peru',\n",
    "    'Albania', 'Austria', 'Azerbaijan',\n",
    "    'Bosnia and Herzegovina', 'Chile',\n",
    "    'Czech Republic', 'Germany', 'Spain',\n",
    "    'Greece', 'Croatia', 'Italy',\n",
    "    'Kyrgyzstan', 'Laos', 'Macedonia',\n",
    "    'Mali', 'Nicaragua', 'Papua New Guinea', 'Romania', 'Somalia',\n",
    "    'Serbia', 'Slovakia', 'Slovenia',\n",
    "    'Chad', 'Thailand', 'Turkmenistan',\n",
    "    'East Timor', 'Turkey', 'Venezuela',\n",
    "    'Armenia', 'Bhutan', 'Central African Republic', 'Switzerland', 'Cuba',\n",
    "    'Ecuador', 'Guyana', 'Cambodia',\n",
    "    'Liberia', 'Myanmar', 'Namibia',\n",
    "    'Suriname', 'Sweden', 'South Africa',\n",
    "    'Zimbabwe'\n",
    "]\n",
    "\n",
    "countries_names = pd.read_csv('country_names.csv',encoding='latin-1').rename({'Country Code': 'ISO3'}, axis=1)\n",
    "countries_names = countries_names.iloc[[e in all_countries for e in list(countries_names['name'].values)], :]\n",
    "\n",
    "diet_2000 = pd.read_csv('Consumption_2000_FAOSTAT.csv')\n",
    "LS_2000_df = diet_2000[diet_2000['Item']=='Animal Products'][['Country','Value']].merge(countries_names[['name','ISO3']].drop_duplicates(), right_on='name',left_on='Country',how='left')\n",
    "# kcal/capita/day to cal/capita\n",
    "LS_2000_df['LS2000_percapita'] = LS_2000_df['Value'].apply(lambda x:x*1e3*365.25)\n",
    "LS_2000_df.head()"
   ]
  },
  {
   "cell_type": "code",
   "execution_count": 125,
   "metadata": {},
   "outputs": [],
   "source": [
    "# function that returns the population from a dataframe by year\n",
    "def get_population(X, year=2050):\n",
    "    return int(X['population_'+str(year)].sum())\n",
    "\n",
    "# function that returns the total production from a dataframe by year\n",
    "def get_production(X, year=2050):\n",
    "    return X['calories_'+str(year)].sum()\n",
    "\n",
    "# function that calculates the caloric sufficiency. it is fed by a dataframe [to preserve generality]\n",
    "def cal_suff_small(X, cntry=None, year=2050, food_waste=.19, feed_food_factor=2.3, perc_feed = .29, diet=.19, pop_fact=1., ADER=2320*1e3*365.25):\n",
    "    \n",
    "#     food_waste=.19\n",
    "#     feed_food_factor=2.3\n",
    "    \n",
    "    conso = 1-food_waste\n",
    "    perc_food = conso-perc_feed\n",
    "    \n",
    "    prod = get_production(X, year=year)\n",
    "    food = perc_food * prod\n",
    "    feed_now_food = 0.\n",
    "    if cntry in LS_2000_df.ISO3.unique():\n",
    "        LS = LS_2000_df[LS_2000_df.ISO3==cntry]['LS2000_percapita'].values * get_population(X, year=2000)\n",
    "        \n",
    "    else:\n",
    "        LS = (1.1483e15*1e3)  * get_population(X, year=2000) / 5976296907\n",
    "    if year==2050:\n",
    "        LS_2000 = LS\n",
    "        LS = diet * (food + feed_food_factor * LS_2000) / (1 + diet * (feed_food_factor - 1))\n",
    "        feed_now_food = feed_food_factor * (LS_2000 - LS)\n",
    "    \n",
    "    production = food + LS + feed_now_food\n",
    "    demand = get_population(X, year=year) * pop_fact * ADER\n",
    "    \n",
    "    return production/demand"
   ]
  },
  {
   "cell_type": "code",
   "execution_count": 398,
   "metadata": {
    "code_folding": [
     3
    ]
   },
   "outputs": [
    {
     "data": {
      "text/plain": [
       "array([3.85906246])"
      ]
     },
     "execution_count": 398,
     "metadata": {},
     "output_type": "execute_result"
    }
   ],
   "source": [
    "ssp = 2\n",
    "diets = [0.23728686354880824, 0.22905550297316568, 0.20972663721021714, 0.20811659841733302, 0.21198181981961245]\n",
    "data_path = 'outputs/compare/'\n",
    "df = pd.read_csv(data_path+'ssp'+str(ssp)+'_compare_new.csv')\n",
    "\n",
    "my_diet = diets[ssp-1]\n",
    "cal_suff_small(df[df.ISO3=='USA'], cntry='USA', year=2050, diet=my_diet)"
   ]
  },
  {
   "cell_type": "markdown",
   "metadata": {},
   "source": [
    "### Keeping caloric sufficiency constant through diet"
   ]
  },
  {
   "cell_type": "code",
   "execution_count": 311,
   "metadata": {},
   "outputs": [
    {
     "data": {
      "text/plain": [
       "[-0.4676296501346664, 0.03433709071390234]"
      ]
     },
     "execution_count": 311,
     "metadata": {},
     "output_type": "execute_result"
    }
   ],
   "source": [
    "def delta_cal_suff(x, country=None):\n",
    "#     x[0] = perc_diet : percentage of livestock in diet\n",
    "#     x[1] = perc_feed : percentage of production that goes to feeding ls\n",
    "\n",
    "    df_dup = df.copy()\n",
    "    if country:\n",
    "        df_dup = df[df['ISO3']==country].copy()\n",
    "    \n",
    "    cal_suff_2000 = cal_suff_small(df_dup, cntry=country, year=2000)\n",
    "    cal_suff_2050 = cal_suff_small(df_dup, cntry=country, year=2050, diet=x[0], perc_feed=x[1])\n",
    "    \n",
    "    scnd_eq = x[0] - x[1] / (1 - .19) / 2.3\n",
    "    \n",
    "    return [cal_suff_2050 - cal_suff_2000, scnd_eq]\n",
    "\n",
    "\n",
    "delta_cal_suff(x=[.19, .29])"
   ]
  },
  {
   "cell_type": "code",
   "execution_count": 312,
   "metadata": {},
   "outputs": [
    {
     "data": {
      "text/plain": [
       "(array([0.09245457, 0.17224287]),\n",
       " [2.220446049250313e-16, 0.0],\n",
       " 0.21198181981961245)"
      ]
     },
     "execution_count": 312,
     "metadata": {},
     "output_type": "execute_result"
    }
   ],
   "source": [
    "# solution to the problem using MINIPACK's hybrd solver\n",
    "\n",
    "sol = root(delta_cal_suff, x0=[.19, .29], method='hybr').x\n",
    "sol, delta_cal_suff(sol), my_diet"
   ]
  },
  {
   "cell_type": "code",
   "execution_count": 313,
   "metadata": {},
   "outputs": [
    {
     "data": {
      "text/plain": [
       "(1.9568954104391356, 1.9568954104391354)"
      ]
     },
     "execution_count": 313,
     "metadata": {},
     "output_type": "execute_result"
    }
   ],
   "source": [
    "# assetion of the solution's validity\n",
    "\n",
    "cal_suff_small(df, diet=sol[0], perc_feed=sol[1]), cal_suff_small(df, year=2000, diet=.19)"
   ]
  },
  {
   "cell_type": "markdown",
   "metadata": {},
   "source": [
    "### Keeping caloric sufficiency constant through yield improvement"
   ]
  },
  {
   "cell_type": "code",
   "execution_count": 314,
   "metadata": {},
   "outputs": [
    {
     "data": {
      "text/plain": [
       "[-0.6356418320125907]"
      ]
     },
     "execution_count": 314,
     "metadata": {},
     "output_type": "execute_result"
    }
   ],
   "source": [
    "def delta_cal_suff(x, country=None):\n",
    "#     x = yield boost coefficient\n",
    "\n",
    "    df_dup = df.copy()\n",
    "    if country:\n",
    "        df_dup = df[df['ISO3']==country].copy()\n",
    "    \n",
    "    df_dup['cal_per_ha_pred'] = df_dup['cal_per_ha_2000'].apply(lambda y: x[0] * y)\n",
    "    df_dup.loc[:, 'calories_2050'] = df_dup['%cropland_2050'] * df_dup['cal_per_ha_pred'] * df_dup['ha_per_pixel']\n",
    "    \n",
    "    cal_suff_2000 = cal_suff_small(df_dup, cntry=country, year=2000)\n",
    "    cal_suff_2050 = cal_suff_small(df_dup, cntry=country, year=2050, diet=my_diet)\n",
    "        \n",
    "    return [cal_suff_2050 - cal_suff_2000]\n",
    "\n",
    "\n",
    "delta_cal_suff(x=[1.])"
   ]
  },
  {
   "cell_type": "code",
   "execution_count": 315,
   "metadata": {},
   "outputs": [
    {
     "data": {
      "text/plain": [
       "(array([1.62013048]), [-1.1102230246251565e-15])"
      ]
     },
     "execution_count": 315,
     "metadata": {},
     "output_type": "execute_result"
    }
   ],
   "source": [
    "# solution to the problem using MINIPACK's hybrd solver\n",
    "\n",
    "sol = root(delta_cal_suff, x0=[1.0], method='hybr').x\n",
    "sol, delta_cal_suff(sol)"
   ]
  },
  {
   "cell_type": "code",
   "execution_count": 316,
   "metadata": {},
   "outputs": [
    {
     "data": {
      "text/plain": [
       "(1.9568954104391343, 1.9568954104391354)"
      ]
     },
     "execution_count": 316,
     "metadata": {},
     "output_type": "execute_result"
    }
   ],
   "source": [
    "# assetion of the solution's validity\n",
    "df_test = df.copy()\n",
    "df_test['cal_per_ha_pred'] = df_test['cal_per_ha_2000'].apply(lambda y: sol[0] * y)\n",
    "df_test.loc[:, 'calories_2050'] = df_test['%cropland_2050'] * df_test['cal_per_ha_pred'] * df_test['ha_per_pixel']\n",
    "\n",
    "cal_suff_small(df_test, diet=my_diet), cal_suff_small(df_test, year=2000, diet=.19)"
   ]
  },
  {
   "cell_type": "markdown",
   "metadata": {},
   "source": [
    "### Keeping caloric sufficiency constant through cropland expansion"
   ]
  },
  {
   "cell_type": "code",
   "execution_count": 395,
   "metadata": {},
   "outputs": [
    {
     "data": {
      "text/plain": [
       "[-0.8316714143886352]"
      ]
     },
     "execution_count": 395,
     "metadata": {},
     "output_type": "execute_result"
    }
   ],
   "source": [
    "def inner_expansion(y, c):\n",
    "    if y>0. :\n",
    "        return min(c * y, 1.)\n",
    "    else:\n",
    "        return c-1\n",
    "def delta_cal_suff(x, country=None):\n",
    "#     x = cropland expansion coefficienct\n",
    "\n",
    "    df_dup = df.copy()\n",
    "    if country:\n",
    "        df_dup = df[df['ISO3']==country].copy()\n",
    "    \n",
    "\n",
    "        \n",
    "    df_dup['%cropland_2050'] = df_dup['%cropland_2000'].apply(lambda y: min(y+x[0], 1.))\n",
    "    df_dup.loc[:, 'calories_2050'] = df_dup['%cropland_2050'] * df_dup['cal_per_ha_pred'] * df_dup['ha_per_pixel']\n",
    "    \n",
    "    cal_suff_2000 = cal_suff_small(df_dup, cntry=country, year=2000)\n",
    "    cal_suff_2050 = cal_suff_small(df_dup, cntry=country, year=2050, diet=my_diet)\n",
    "        \n",
    "    return [cal_suff_2050 - cal_suff_2000]\n",
    "\n",
    "\n",
    "delta_cal_suff(x=[0.])"
   ]
  },
  {
   "cell_type": "code",
   "execution_count": 396,
   "metadata": {},
   "outputs": [
    {
     "data": {
      "text/plain": [
       "(array([0.4135237]), [-2.220446049250313e-15])"
      ]
     },
     "execution_count": 396,
     "metadata": {},
     "output_type": "execute_result"
    }
   ],
   "source": [
    "# solution to the problem using MINIPACK's hybrd solver\n",
    "\n",
    "sol = root(delta_cal_suff, x0=[.0], method='hybr').x\n",
    "sol, delta_cal_suff(sol)"
   ]
  },
  {
   "cell_type": "code",
   "execution_count": 397,
   "metadata": {},
   "outputs": [
    {
     "data": {
      "text/plain": [
       "(1.9568954104391332, 1.9568954104391354)"
      ]
     },
     "execution_count": 397,
     "metadata": {},
     "output_type": "execute_result"
    }
   ],
   "source": [
    "# assetion of the solution's validity\n",
    "df_test = df.copy()\n",
    "df_test['%cropland_2050'] = df_test['%cropland_2000'].apply(lambda y: min(y+sol[0], 1.))\n",
    "df_test.loc[:, 'calories_2050'] = df_test['%cropland_2050'] * df_test['cal_per_ha_pred'] * df_test['ha_per_pixel']\n",
    "\n",
    "cal_suff_small(df_test, diet=my_diet), cal_suff_small(df_test, year=2000, diet=.19)"
   ]
  },
  {
   "cell_type": "markdown",
   "metadata": {},
   "source": [
    "### Keeping caloric sufficiency constant through population change"
   ]
  },
  {
   "cell_type": "code",
   "execution_count": 320,
   "metadata": {},
   "outputs": [
    {
     "data": {
      "text/plain": [
       "[-0.5009932371614223]"
      ]
     },
     "execution_count": 320,
     "metadata": {},
     "output_type": "execute_result"
    }
   ],
   "source": [
    "def delta_cal_suff(x, country=None):\n",
    "#     x = population distortion factor\n",
    "\n",
    "    df_dup = df.copy()\n",
    "    if country:\n",
    "        df_dup = df[df['ISO3']==country].copy()\n",
    "        \n",
    "    cal_suff_2000 = cal_suff_small(df_dup, cntry=country, year=2000)\n",
    "    cal_suff_2050 = cal_suff_small(df_dup, cntry=country, year=2050, diet=my_diet, pop_fact=x[0])\n",
    "        \n",
    "    return [cal_suff_2050 - cal_suff_2000]\n",
    "\n",
    "\n",
    "delta_cal_suff(x=[1.])"
   ]
  },
  {
   "cell_type": "code",
   "execution_count": 321,
   "metadata": {},
   "outputs": [
    {
     "data": {
      "text/plain": [
       "(array([0.74398569]), [4.440892098500626e-16])"
      ]
     },
     "execution_count": 321,
     "metadata": {},
     "output_type": "execute_result"
    }
   ],
   "source": [
    "# solution to the problem using MINIPACK's hybrd solver\n",
    "\n",
    "sol = root(delta_cal_suff, x0=[1.0], method='hybr').x\n",
    "sol, delta_cal_suff(sol)"
   ]
  },
  {
   "cell_type": "code",
   "execution_count": 322,
   "metadata": {},
   "outputs": [
    {
     "data": {
      "text/plain": [
       "(1.9568954104391358, 1.9568954104391354)"
      ]
     },
     "execution_count": 322,
     "metadata": {},
     "output_type": "execute_result"
    }
   ],
   "source": [
    "# assetion of the solution's validity\n",
    "\n",
    "cal_suff_small(df, diet=my_diet, pop_fact=sol[0]), cal_suff_small(df, year=2000, diet=.19)"
   ]
  },
  {
   "cell_type": "code",
   "execution_count": 323,
   "metadata": {},
   "outputs": [
    {
     "data": {
      "text/plain": [
       "'2.11E+09'"
      ]
     },
     "execution_count": 323,
     "metadata": {},
     "output_type": "execute_result"
    }
   ],
   "source": [
    "# population change from 2050 projection and solution\n",
    "from decimal import Decimal\n",
    "\n",
    "'%.2E' % Decimal((1-sol[0]) * get_population(df))"
   ]
  },
  {
   "cell_type": "markdown",
   "metadata": {},
   "source": [
    "### Keeping caloric sufficiency constant through food waste, diet and yield improvement"
   ]
  },
  {
   "cell_type": "code",
   "execution_count": 330,
   "metadata": {},
   "outputs": [
    {
     "data": {
      "text/plain": [
       "[-0.47811551443607314, 0.022545273323049564]"
      ]
     },
     "execution_count": 330,
     "metadata": {},
     "output_type": "execute_result"
    }
   ],
   "source": [
    "# we make the assumption that food waste is reduced by half and infer the remainder of the variable values\n",
    "\n",
    "def delta_cal_suff(x, country=None):\n",
    "#     x[0] = perc_feed : percentage of production that goes to feeding LS\n",
    "#     x[1] = yield boost coefficient\n",
    "    waste = .1425\n",
    "    df_dup = df.copy()\n",
    "    if country:\n",
    "        df_dup = df[df['ISO3']==country].copy()\n",
    "    \n",
    "    df_dup['cal_per_ha_pred'] = df_dup['cal_per_ha_2000'].apply(lambda y: x[1] * y)\n",
    "    df_dup.loc[:, 'calories_2050'] = df_dup['%cropland_2050'] * df_dup['cal_per_ha_pred'] * df_dup['ha_per_pixel']\n",
    "    \n",
    "    cal_suff_2000 = cal_suff_small(df_dup, cntry=country, year=2000)\n",
    "    cal_suff_2050 = cal_suff_small(df_dup, cntry=country, year=2050, diet=my_diet*.8, perc_feed=x[0], food_waste=waste)\n",
    "    \n",
    "    scnd_eq = my_diet*.8 - x[0] / (1 - waste) / 2.3\n",
    "    \n",
    "    return [cal_suff_2050 - cal_suff_2000, scnd_eq]\n",
    "\n",
    "\n",
    "delta_cal_suff(x=[.29, 1.])"
   ]
  },
  {
   "cell_type": "code",
   "execution_count": 331,
   "metadata": {},
   "outputs": [
    {
     "data": {
      "text/plain": [
       "(array([0.33446492, 1.52871735]),\n",
       " [1.1102230246251565e-15, -2.7755575615628914e-17])"
      ]
     },
     "execution_count": 331,
     "metadata": {},
     "output_type": "execute_result"
    }
   ],
   "source": [
    "# solution to the problem using MINIPACK's hybrd solver\n",
    "\n",
    "sol = root(delta_cal_suff, x0=[.29, 1.], method='hybr').x\n",
    "sol, delta_cal_suff(sol)"
   ]
  },
  {
   "cell_type": "code",
   "execution_count": 332,
   "metadata": {},
   "outputs": [
    {
     "data": {
      "text/plain": [
       "(1.9568954104391365, 1.9568954104391354)"
      ]
     },
     "execution_count": 332,
     "metadata": {},
     "output_type": "execute_result"
    }
   ],
   "source": [
    "# assetion of the solution's validity\n",
    "df_test = df.copy()\n",
    "df_test['cal_per_ha_pred'] = df_test['cal_per_ha_2000'].apply(lambda y: sol[1] * y)\n",
    "df_test.loc[:, 'calories_2050'] = df_test['%cropland_2050'] * df_test['cal_per_ha_pred'] * df_test['ha_per_pixel']\n",
    "\n",
    "cal_suff_small(df_test, diet=my_diet*.8, perc_feed=sol[0], food_waste=.1425), cal_suff_small(df_test, year=2000, diet=.19)"
   ]
  },
  {
   "cell_type": "markdown",
   "metadata": {},
   "source": [
    "### Keeping caloric sufficiency constant using feed to food factor and food waste\n"
   ]
  },
  {
   "cell_type": "code",
   "execution_count": 408,
   "metadata": {},
   "outputs": [
    {
     "data": {
      "text/plain": [
       "[-0.40799929099953647]"
      ]
     },
     "execution_count": 408,
     "metadata": {},
     "output_type": "execute_result"
    }
   ],
   "source": [
    "def delta_cal_suff(x, country=None):\n",
    "#     x = feed to food factor\n",
    "\n",
    "    df_dup = df.copy()\n",
    "    if country:\n",
    "        df_dup = df[df['ISO3']==country].copy()\n",
    "        \n",
    "    cal_suff_2000 = cal_suff_small(df_dup, cntry=country, year=2000)\n",
    "    cal_suff_2050 = cal_suff_small(df_dup, cntry=country, year=2050, diet=my_diet, feed_food_factor=1.15, \\\n",
    "                                   food_waste=x[0])\n",
    "        \n",
    "    return [cal_suff_2050 - cal_suff_2000]\n",
    "\n",
    "\n",
    "delta_cal_suff(x=[.19])"
   ]
  },
  {
   "cell_type": "code",
   "execution_count": 409,
   "metadata": {},
   "outputs": [
    {
     "data": {
      "text/plain": [
       "(array([0.0346171]), [-2.220446049250313e-16])"
      ]
     },
     "execution_count": 409,
     "metadata": {},
     "output_type": "execute_result"
    }
   ],
   "source": [
    "# solution to the problem using MINIPACK's hybrd solver\n",
    "\n",
    "sol = root(delta_cal_suff, x0=[.19], method='hybr').x\n",
    "sol, delta_cal_suff(sol)"
   ]
  },
  {
   "cell_type": "code",
   "execution_count": 410,
   "metadata": {},
   "outputs": [
    {
     "data": {
      "text/plain": [
       "(1.9568954104391352, 1.9568954104391354)"
      ]
     },
     "execution_count": 410,
     "metadata": {},
     "output_type": "execute_result"
    }
   ],
   "source": [
    "# assetion of the solution's validity\n",
    "\n",
    "cal_suff_small(df, diet=my_diet, food_waste=sol[0], feed_food_factor=1.15), cal_suff_small(df, year=2000, diet=.19)"
   ]
  },
  {
   "cell_type": "code",
   "execution_count": null,
   "metadata": {},
   "outputs": [],
   "source": []
  }
 ],
 "metadata": {
  "kernelspec": {
   "display_name": "Python 3",
   "language": "python",
   "name": "python3"
  },
  "language_info": {
   "codemirror_mode": {
    "name": "ipython",
    "version": 3
   },
   "file_extension": ".py",
   "mimetype": "text/x-python",
   "name": "python",
   "nbconvert_exporter": "python",
   "pygments_lexer": "ipython3",
   "version": "3.7.4"
  }
 },
 "nbformat": 4,
 "nbformat_minor": 4
}
